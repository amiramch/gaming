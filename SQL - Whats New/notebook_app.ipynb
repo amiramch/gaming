{
 "metadata": {
  "kernelspec": {
   "display_name": "Streamlit Notebook",
   "name": "streamlit"
  }
 },
 "nbformat_minor": 5,
 "nbformat": 4,
 "cells": [
  {
   "cell_type": "markdown",
   "id": "10d4bb4b-fd9e-4d40-82d4-dbd10178dc08",
   "metadata": {
    "name": "cell5",
    "collapsed": false,
    "resultHeight": 46
   },
   "source": "### Set Context"
  },
  {
   "cell_type": "code",
   "id": "265046b0-cca8-41a5-9bdc-875f45e8d703",
   "metadata": {
    "language": "sql",
    "name": "cell4"
   },
   "outputs": [],
   "source": "use role accountadmin;\nuse schema quickstart.gaming_anomaly;\n\nshow tables;\n",
   "execution_count": null
  },
  {
   "cell_type": "markdown",
   "id": "aae8b0f6-4e77-4a59-a166-3e1816ff34f9",
   "metadata": {
    "name": "cell8",
    "collapsed": false,
    "resultHeight": 46
   },
   "source": "### Basic SQL functions"
  },
  {
   "cell_type": "code",
   "id": "6b987ab4-c938-437d-b7bd-7223982d7a36",
   "metadata": {
    "language": "sql",
    "name": "cell6"
   },
   "outputs": [],
   "source": "-- MAX BY \n\nwith maxim as (\nselect max(active_users) as ausers\nfrom hourly_aggregation\n)\nselect a.ausers , b.minute_usage, b.game_id\nfrom maxim as a\ninner join hourly_aggregation as b\non a.ausers = b.active_users;\n\nselect max_by(game_id || ' ' || minute_usage, active_users) from hourly_aggregation;",
   "execution_count": null
  },
  {
   "cell_type": "code",
   "id": "4c30894b-a6f0-4900-8bf8-e7ecfe7bd17f",
   "metadata": {
    "language": "sql",
    "name": "cell7",
    "collapsed": true,
    "resultHeight": 251,
    "codeCollapsed": false
   },
   "outputs": [],
   "source": "--- GROUPING --\nselect game_id, count(distinct session_id) as sessoions, count(distinct user_id) as cnt_users\nfrom raw_events\ngroup by all;",
   "execution_count": null
  },
  {
   "cell_type": "code",
   "id": "aa82af08-1936-4fb4-9403-1f71c5fdbe11",
   "metadata": {
    "language": "sql",
    "name": "cell9"
   },
   "outputs": [],
   "source": "-- EXCLUDE\nselect * exclude ip_address rename record_id as id\nfrom raw_events\nlimit 20;",
   "execution_count": null
  },
  {
   "cell_type": "code",
   "id": "9ee95bd7-69f3-4bb6-b231-ee4f7bf426bc",
   "metadata": {
    "language": "sql",
    "name": "cell10"
   },
   "outputs": [],
   "source": "-- REGULAR JOIN\n\nSELECT \n    l.*, \n    r.event_time, \n    DATEDIFF(minute, l.login_time, r.event_time) AS minutes_idle, \n    r.event_type\nFROM logins l\nLEFT JOIN raw_events r\n    ON l.user_id = r.user_id \n    AND l.session_id = r.session_id\n    AND l.login_time <= r.event_time\n    WHERE 1=1\nQUALIFY ROW_NUMBER() OVER (PARTITION BY l.login_time, l.user_id, l.session_id ORDER BY r.event_time ASC) = 1\nORDER BY l.login_time;\n",
   "execution_count": null
  },
  {
   "cell_type": "code",
   "id": "50b92a7b-491d-43de-9c48-ea8f8147ed58",
   "metadata": {
    "language": "sql",
    "name": "cell11",
    "collapsed": true,
    "resultHeight": 510,
    "codeCollapsed": false
   },
   "outputs": [],
   "source": "-- AS OF JOIN\n\nSELECT l.*, r.event_time, datediff(minute,l.login_time,r.event_time) as minutes_idle, r.event_type\n  FROM logins l \n  ASOF JOIN raw_events r\n    MATCH_CONDITION(l.login_time <= r.event_time)\n    ON(l.user_id=r.user_id and l.session_id=r.session_id)\n    --where l.user_id = 'user_3942' \n  ORDER BY l.login_time;\n",
   "execution_count": null
  },
  {
   "cell_type": "code",
   "id": "3775908f-ca36-4846-8f38-5adca39217f2",
   "metadata": {
    "language": "python",
    "name": "cell1",
    "codeCollapsed": false,
    "collapsed": false,
    "resultHeight": 0
   },
   "source": "# Import python packages\nimport streamlit as st\nimport pandas as pd\n\n# We can also use Snowpark for our analyses!\nfrom snowflake.snowpark.context import get_active_session\nsession = get_active_session()\n",
   "execution_count": null,
   "outputs": []
  },
  {
   "cell_type": "code",
   "id": "07bb2c40-b4df-46ab-a271-a0bebcb96f40",
   "metadata": {
    "language": "python",
    "name": "cell2",
    "collapsed": true,
    "resultHeight": 235,
    "codeCollapsed": false
   },
   "outputs": [],
   "source": "df = session.table('dim_games')\nst.dataframe(df)",
   "execution_count": null
  },
  {
   "cell_type": "code",
   "id": "86ef3460-7fea-49a8-8413-f522f49297ba",
   "metadata": {
    "language": "python",
    "name": "cell3",
    "collapsed": true,
    "resultHeight": 372,
    "codeCollapsed": false
   },
   "outputs": [],
   "source": "df = session.sql(\"select game_id, count(1) as counter from raw_events group by all\").to_pandas()\nst.bar_chart(df,x='GAME_ID', y='COUNTER')",
   "execution_count": null
  },
  {
   "cell_type": "code",
   "id": "11834d15-bb39-4876-bd74-75c00bd6ab46",
   "metadata": {
    "language": "python",
    "name": "cell12",
    "collapsed": false,
    "resultHeight": 457
   },
   "outputs": [],
   "source": "df = session.sql(\"select game_id, count(1) as counter from raw_events group by all\").to_pandas()\ngame = st.multiselect(\"Game\",df['GAME_ID'].unique(), default=df['GAME_ID'].unique() )\n\nfiltered_df = df[df['GAME_ID'].isin(game)]\nst.bar_chart(filtered_df ,x='GAME_ID' , y='COUNTER')",
   "execution_count": null
  }
 ]
}